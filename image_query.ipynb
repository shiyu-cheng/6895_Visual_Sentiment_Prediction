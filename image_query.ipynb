{
  "nbformat": 4,
  "nbformat_minor": 0,
  "metadata": {
    "colab": {
      "provenance": [],
      "authorship_tag": "ABX9TyMWrJGJCb/fKEWWaUDHrJPf",
      "include_colab_link": true
    },
    "kernelspec": {
      "name": "python3",
      "display_name": "Python 3"
    },
    "language_info": {
      "name": "python"
    }
  },
  "cells": [
    {
      "cell_type": "markdown",
      "metadata": {
        "id": "view-in-github",
        "colab_type": "text"
      },
      "source": [
        "<a href=\"https://colab.research.google.com/github/shiyu-cheng/6895_Visual_Sentiment_Prediction/blob/master/image_query.ipynb\" target=\"_parent\"><img src=\"https://colab.research.google.com/assets/colab-badge.svg\" alt=\"Open In Colab\"/></a>"
      ]
    },
    {
      "cell_type": "code",
      "source": [
        "!pip3 install flickrapi"
      ],
      "metadata": {
        "colab": {
          "base_uri": "https://localhost:8080/"
        },
        "id": "6Qhp3Ko24oNC",
        "outputId": "1667e4f3-fe30-412e-d038-fd557be8a898"
      },
      "execution_count": null,
      "outputs": [
        {
          "output_type": "stream",
          "name": "stdout",
          "text": [
            "Looking in indexes: https://pypi.org/simple, https://us-python.pkg.dev/colab-wheels/public/simple/\n",
            "Collecting flickrapi\n",
            "  Downloading flickrapi-2.4.0-py2.py3-none-any.whl (26 kB)\n",
            "Requirement already satisfied: six>=1.5.2 in /usr/local/lib/python3.8/dist-packages (from flickrapi) (1.15.0)\n",
            "Requirement already satisfied: requests-oauthlib>=0.4.0 in /usr/local/lib/python3.8/dist-packages (from flickrapi) (1.3.1)\n",
            "Collecting requests-toolbelt>=0.3.1\n",
            "  Downloading requests_toolbelt-0.10.1-py2.py3-none-any.whl (54 kB)\n",
            "\u001b[2K     \u001b[90m━━━━━━━━━━━━━━━━━━━━━━━━━━━━━━━━━━━━━━━━\u001b[0m \u001b[32m54.5/54.5 KB\u001b[0m \u001b[31m2.9 MB/s\u001b[0m eta \u001b[36m0:00:00\u001b[0m\n",
            "\u001b[?25hRequirement already satisfied: requests>=2.2.1 in /usr/local/lib/python3.8/dist-packages (from flickrapi) (2.25.1)\n",
            "Requirement already satisfied: urllib3<1.27,>=1.21.1 in /usr/local/lib/python3.8/dist-packages (from requests>=2.2.1->flickrapi) (1.24.3)\n",
            "Requirement already satisfied: idna<3,>=2.5 in /usr/local/lib/python3.8/dist-packages (from requests>=2.2.1->flickrapi) (2.10)\n",
            "Requirement already satisfied: chardet<5,>=3.0.2 in /usr/local/lib/python3.8/dist-packages (from requests>=2.2.1->flickrapi) (4.0.0)\n",
            "Requirement already satisfied: certifi>=2017.4.17 in /usr/local/lib/python3.8/dist-packages (from requests>=2.2.1->flickrapi) (2022.12.7)\n",
            "Requirement already satisfied: oauthlib>=3.0.0 in /usr/local/lib/python3.8/dist-packages (from requests-oauthlib>=0.4.0->flickrapi) (3.2.2)\n",
            "Installing collected packages: requests-toolbelt, flickrapi\n",
            "Successfully installed flickrapi-2.4.0 requests-toolbelt-0.10.1\n"
          ]
        }
      ]
    },
    {
      "cell_type": "code",
      "source": [
        "import csv\n",
        "from pprint import pprint\n",
        "from flickrapi import FlickrAPI\n",
        "import urllib\n",
        "from PIL import Image\n",
        "import os\n",
        "from time import sleep"
      ],
      "metadata": {
        "id": "HTLir09x2J-A"
      },
      "execution_count": 44,
      "outputs": []
    },
    {
      "cell_type": "code",
      "source": [
        "# feelings = (\n",
        "#     \"Joy\",\n",
        "#     \"Trust\",\n",
        "#     \"Fear\",\n",
        "#     \"Surprise\",\n",
        "#     \"Sadness\",\n",
        "#     \"Disgust\",\n",
        "#     \"Anger\",\n",
        "#     \"Anticipation\",\n",
        "#     \"Love\",\n",
        "#     \"Submission\",\n",
        "#     \"Awe\",\n",
        "#     \"Disapproval\",\n",
        "#     \"Remorse\",\n",
        "#     \"Contempt\",\n",
        "#     \"Aggressiveness\",\n",
        "#     \"Optimism\",\n",
        "#     \"Guilt\",\n",
        "#     \"Shame\",\n",
        "#     \"Envy\",\n",
        "#     \"Indifference\",\n",
        "#     \"Serenity\",\n",
        "#     \"Boredom\",\n",
        "#     \"Irritation\",\n",
        "#     \"Pessimism\"\n",
        "# )\n",
        "\n",
        "feelings = (\n",
        "    \"Joy\",\n",
        "    \"Trust\",\n",
        ")\n"
      ],
      "metadata": {
        "id": "WS65nIpP0jTK"
      },
      "execution_count": null,
      "outputs": []
    },
    {
      "cell_type": "code",
      "execution_count": null,
      "metadata": {
        "colab": {
          "base_uri": "https://localhost:8080/"
        },
        "id": "5bM8whQk4PwI",
        "outputId": "94602442-9684-461b-adfc-cac9528132e9"
      },
      "outputs": [
        {
          "output_type": "stream",
          "name": "stdout",
          "text": [
            "['https://live.staticflickr.com/65535/52708441830_ba1fb5bf23_s.jpg', 'https://live.staticflickr.com/65535/2214136731_b9f6843a3e_s.jpg', 'https://live.staticflickr.com/65535/52704855427_2e76fcf5cc_s.jpg', 'https://live.staticflickr.com/65535/52705858103_a7eb3f69f8_s.jpg', 'https://live.staticflickr.com/65535/52705367796_2c1deef2a1_s.jpg', 'https://live.staticflickr.com/65535/52705796060_46d1724077_s.jpg', 'https://live.staticflickr.com/65535/52704013697_74febfbd81_s.jpg', 'https://live.staticflickr.com/65535/52703588364_141412ec44_s.jpg', 'https://live.staticflickr.com/65535/52699691245_636f1f1073_s.jpg', 'https://live.staticflickr.com/65535/52698436490_88ac4fd88f_s.jpg', 'https://live.staticflickr.com/31337/52709594095_a0ba15699f_s.jpg', 'https://live.staticflickr.com/65535/52708587997_5bd94ac076_s.jpg', 'https://live.staticflickr.com/65535/52708600970_6f01dcdcfb_s.jpg', 'https://live.staticflickr.com/65535/52708177785_2438164113_s.jpg', 'https://live.staticflickr.com/65535/52706197227_b2551a83cc_s.jpg', 'https://live.staticflickr.com/65535/52706342421_3853e64a65_s.jpg', 'https://live.staticflickr.com/65535/52706826398_6e247ff48a_s.jpg', 'https://live.staticflickr.com/65535/52705049165_961122af78_s.jpg', 'https://live.staticflickr.com/65535/52704105592_b3f643db20_s.jpg', 'https://live.staticflickr.com/65535/52705048875_5029921b5d_s.jpg', 'https://live.staticflickr.com/65535/52708710577_d148352fa8_s.jpg', 'https://live.staticflickr.com/65535/52709364029_a5832a17a3_s.jpg', 'https://live.staticflickr.com/65535/52709447310_dca6e2aa85_s.jpg', 'https://live.staticflickr.com/65535/52709207470_8fab9037f5_s.jpg', 'https://live.staticflickr.com/65535/52708755661_4195896990_s.jpg', 'https://live.staticflickr.com/65535/52708755551_d47e456285_s.jpg', 'https://live.staticflickr.com/65535/52708232607_ca5fb0c550_s.jpg', 'https://live.staticflickr.com/65535/52709169505_a2dda73307_s.jpg', 'https://live.staticflickr.com/65535/52708754951_6010c44388_s.jpg', 'https://live.staticflickr.com/65535/52709240988_1c4c89bbd4_s.jpg', 'https://live.staticflickr.com/65535/52709919608_63b76f9c5f_s.jpg', 'https://live.staticflickr.com/65535/52709564009_0a36055f3e_s.jpg', 'https://live.staticflickr.com/65535/52708700617_359f8b4c25_s.jpg', 'https://live.staticflickr.com/65535/52709381929_59404581cd_s.jpg', 'https://live.staticflickr.com/65535/52709344409_6cd2dd0533_s.jpg', 'https://live.staticflickr.com/65535/52708564422_40264e7f5a_s.jpg', 'https://live.staticflickr.com/65535/52709457645_d6e3b7f07e_s.jpg', 'https://live.staticflickr.com/65535/52709207470_8fab9037f5_s.jpg', 'https://live.staticflickr.com/65535/52709187150_40f0690048_s.jpg', 'https://live.staticflickr.com/65535/52709021104_1866ac5c1e_s.jpg', 'https://live.staticflickr.com/65535/52709745395_e326d7cc32_s.jpg', 'https://live.staticflickr.com/65535/52709564009_0a36055f3e_s.jpg', 'https://live.staticflickr.com/65535/52709563969_d81ca2ff23_s.jpg', 'https://live.staticflickr.com/65535/52709397164_a4d203dfa8_s.jpg', 'https://live.staticflickr.com/65535/52708417537_bd8348bd88_s.jpg', 'https://live.staticflickr.com/65535/52708037582_5679f82d9c_s.jpg', 'https://live.staticflickr.com/65535/52708964433_3016bcc163_s.jpg', 'https://live.staticflickr.com/65535/52708935473_527248cda5_s.jpg', 'https://live.staticflickr.com/65535/52708859880_063c91dbcf_s.jpg', 'https://live.staticflickr.com/65535/52708824145_fe20a1165a_s.jpg', 'https://live.staticflickr.com/65535/52709606599_3e474bbe67_s.jpg', 'https://live.staticflickr.com/65535/52709690943_f6966bc8f1_s.jpg', 'https://live.staticflickr.com/65535/52709176573_d3e83fbeae_s.jpg', 'https://live.staticflickr.com/65535/52707965762_0258b178bd_s.jpg', 'https://live.staticflickr.com/65535/52708318573_ae72c56743_s.jpg', 'https://live.staticflickr.com/65535/52706114492_fca99614e4_s.jpg', 'https://live.staticflickr.com/65535/52706446969_5fc4dfd484_s.jpg', 'https://live.staticflickr.com/65535/52706393670_47b3f0d0a3_s.jpg', 'https://live.staticflickr.com/65535/52704720818_41735e7c0e_s.jpg', 'https://live.staticflickr.com/65535/52704062156_0bda731082_s.jpg', 'https://live.staticflickr.com/65535/52709647490_b8b59c4c50_s.jpg', 'https://live.staticflickr.com/65535/52708877360_633e86fcd5_s.jpg', 'https://live.staticflickr.com/65535/52708677453_ccc2fe554d_s.jpg', 'https://live.staticflickr.com/65535/52707618657_91b17ec089_s.jpg', 'https://live.staticflickr.com/65535/52708487410_81bd120e7e_s.jpg', 'https://live.staticflickr.com/65535/52707232907_7b549f3f26_s.jpg', 'https://live.staticflickr.com/65535/52708169315_30f555c41a_s.jpg', 'https://live.staticflickr.com/65535/52708169285_cc717e8219_s.jpg', 'https://live.staticflickr.com/65535/52707232797_c94d8a6346_s.jpg', 'https://live.staticflickr.com/65535/52707232747_121d04b778_s.jpg', 'https://live.staticflickr.com/65535/52708214802_70401a228f_s.jpg', 'https://live.staticflickr.com/65535/52709219588_57dc8ab9b0_s.jpg', 'https://live.staticflickr.com/65535/52708988454_029a552c90_s.jpg', 'https://live.staticflickr.com/65535/52709184058_f64947f123_s.jpg', 'https://live.staticflickr.com/65535/52708759910_77fbd85472_s.jpg', 'https://live.staticflickr.com/65535/52708344421_f091b3396d_s.jpg', 'https://live.staticflickr.com/65535/52707821272_5464bcefdc_s.jpg', 'https://live.staticflickr.com/65535/52708597684_2d27785823_s.jpg', 'https://live.staticflickr.com/65535/52707818977_f0df86b2a2_s.jpg', 'https://live.staticflickr.com/65535/52707725017_04185d55ef_s.jpg', 'https://live.staticflickr.com/65535/52709693504_b1571c55ee_s.jpg', 'https://live.staticflickr.com/65535/52709403406_ee777953f8_s.jpg', 'https://live.staticflickr.com/65535/52709554089_ced2e7a0bf_s.jpg', 'https://live.staticflickr.com/65535/52709549574_364b43dda7_s.jpg', 'https://live.staticflickr.com/65535/52709291931_c4f52b64bd_s.jpg', 'https://live.staticflickr.com/65535/52709547574_24913c03a8_s.jpg', 'https://live.staticflickr.com/65535/52709290736_f3dc41f68e_s.jpg', 'https://live.staticflickr.com/65535/52708764902_f8e30e47dc_s.jpg', 'https://live.staticflickr.com/65535/52708764822_d64fce8654_s.jpg', 'https://live.staticflickr.com/65535/52708764252_77a83d2de9_s.jpg', 'https://live.staticflickr.com/65535/52709903948_168e5a4cfd_s.jpg', 'https://live.staticflickr.com/65535/52708893672_bec017bd9a_s.jpg', 'https://live.staticflickr.com/65535/52709136411_830f64000d_s.jpg', 'https://live.staticflickr.com/65535/52709178559_0933171c88_s.jpg', 'https://live.staticflickr.com/65535/52708791309_68dcbc70d1_s.jpg', 'https://live.staticflickr.com/65535/52707553617_4880893e7d_s.jpg', 'https://live.staticflickr.com/65535/52708278204_a13e1cf480_s.jpg', 'https://live.staticflickr.com/65535/52707938549_8a214aa557_s.jpg', 'https://live.staticflickr.com/65535/52708096320_577cc12203_s.jpg', 'https://live.staticflickr.com/65535/52707159117_f9b9802573_s.jpg', 'https://live.staticflickr.com/65535/52708929357_70397faecb_s.jpg', 'https://live.staticflickr.com/65535/52709687898_f7888edf4d_s.jpg', 'https://live.staticflickr.com/65535/52708707100_67ec4e3166_s.jpg', 'https://live.staticflickr.com/65535/52708549164_c269c25098_s.jpg', 'https://live.staticflickr.com/65535/52708548499_df3e52288c_s.jpg', 'https://live.staticflickr.com/65535/52708292051_dea292c359_s.jpg', 'https://live.staticflickr.com/65535/52708706115_755af2653a_s.jpg', 'https://live.staticflickr.com/65535/52708291956_cc2b16568d_s.jpg', 'https://live.staticflickr.com/65535/52708291896_3ec59d3d5c_s.jpg', 'https://live.staticflickr.com/65535/52707769692_5dda9d5c0d_s.jpg', 'https://live.staticflickr.com/65535/52687074013_1e3c0b4ce1_s.jpg', 'https://live.staticflickr.com/65535/52681104717_f838aaeebe_s.jpg', 'https://live.staticflickr.com/65535/52679086030_082305631c_s.jpg', 'https://live.staticflickr.com/65535/52676397586_5131d8bace_s.jpg', 'https://live.staticflickr.com/65535/52669150325_e450aebaef_s.jpg', 'https://live.staticflickr.com/65535/52669148510_9bb544b03a_s.jpg', 'https://live.staticflickr.com/65535/52652107322_9cabb776d0_s.jpg', 'https://live.staticflickr.com/65535/52651146290_a54001bc12_s.jpg', 'https://live.staticflickr.com/65535/52649774964_81ffef2e39_s.jpg', 'https://live.staticflickr.com/65535/52646034581_57f7d4516e_s.jpg', 'https://live.staticflickr.com/65535/52708090400_c98c0ed604_s.jpg', 'https://live.staticflickr.com/65535/52705771313_da3c041d5b_s.jpg', 'https://live.staticflickr.com/65535/52705185270_e57ac2d475_s.jpg', 'https://live.staticflickr.com/65535/52702848041_709109dc39_s.jpg', 'https://live.staticflickr.com/65535/52700740778_9f03734920_s.jpg', 'https://live.staticflickr.com/65535/52696205028_e3c6a4c893_s.jpg', 'https://live.staticflickr.com/65535/52694216034_3f506590a1_s.jpg', 'https://live.staticflickr.com/65535/52693434927_7664d0b079_s.jpg', 'https://live.staticflickr.com/65535/52693953771_e32d16609c_s.jpg', 'https://live.staticflickr.com/65535/52693434887_273d11e81e_s.jpg', 'https://live.staticflickr.com/65535/52709740035_7c8fd610b4_s.jpg', 'https://live.staticflickr.com/65535/52703085585_86c15854f6_s.jpg', 'https://live.staticflickr.com/65535/52700356251_2782f25c7a_s.jpg', 'https://live.staticflickr.com/65535/52695209339_ab6f7074e1_s.jpg', 'https://live.staticflickr.com/65535/52692127448_82865178eb_s.jpg', 'https://live.staticflickr.com/65535/52680816701_b226ee48c0_s.jpg', 'https://live.staticflickr.com/65535/52675972377_8124d75b41_s.jpg', 'https://live.staticflickr.com/65535/52671426419_6956c1fbc0_s.jpg', 'https://live.staticflickr.com/65535/52666974861_a0c22ea319_s.jpg', 'https://live.staticflickr.com/65535/52662158196_3ffd9272cf_s.jpg', 'https://live.staticflickr.com/65535/52709602568_96ce138bac_s.jpg', 'https://live.staticflickr.com/65535/52709190614_ae7a711bcd_s.jpg', 'https://live.staticflickr.com/65535/52709084394_2f392206d7_s.jpg', 'https://live.staticflickr.com/65535/52708567596_cb44b2a4ae_s.jpg', 'https://live.staticflickr.com/65535/52708859880_063c91dbcf_s.jpg', 'https://live.staticflickr.com/65535/52708929528_59cb51d35c_s.jpg', 'https://live.staticflickr.com/65535/52708698839_d3475e19ed_s.jpg', 'https://live.staticflickr.com/65535/52707903432_dbf1e1e63b_s.jpg', 'https://live.staticflickr.com/65535/52708573275_b75945d81d_s.jpg', 'https://live.staticflickr.com/65535/52708340449_642101d81e_s.jpg', 'https://live.staticflickr.com/65535/52708859880_063c91dbcf_s.jpg', 'https://live.staticflickr.com/65535/52708929528_59cb51d35c_s.jpg', 'https://live.staticflickr.com/65535/52708698839_d3475e19ed_s.jpg', 'https://live.staticflickr.com/65535/52707903432_dbf1e1e63b_s.jpg', 'https://live.staticflickr.com/65535/52708489935_014c0dc054_s.jpg', 'https://live.staticflickr.com/65535/52708358553_fc6f50fa7f_s.jpg', 'https://live.staticflickr.com/65535/52708285525_a07c8f235a_s.jpg', 'https://live.staticflickr.com/65535/52708285280_9b05c83e41_s.jpg', 'https://live.staticflickr.com/65535/52708358128_f9345237fe_s.jpg', 'https://live.staticflickr.com/65535/52708125409_6fa1870390_s.jpg', 'https://live.staticflickr.com/65535/52708776117_44b5de129b_s.jpg', 'https://live.staticflickr.com/65535/52709477635_3a1e33a72e_s.jpg', 'https://live.staticflickr.com/65535/52709058533_48882b0305_s.jpg', 'https://live.staticflickr.com/65535/52708471938_e67fe3f601_s.jpg', 'https://live.staticflickr.com/65535/52708039849_1637494c89_s.jpg', 'https://live.staticflickr.com/65535/52706783157_a18b84b51b_s.jpg', 'https://live.staticflickr.com/65535/52706423341_470928ae78_s.jpg', 'https://live.staticflickr.com/65535/52705635626_242c48f2af_s.jpg', 'https://live.staticflickr.com/65535/52704670357_f8b8fb8daa_s.jpg', 'https://live.staticflickr.com/65535/52704147602_d44d300285_s.jpg', 'https://live.staticflickr.com/65535/52708942916_f470df1f2c_s.jpg', 'https://live.staticflickr.com/65535/52709202123_8e763fb417_s.jpg', 'https://live.staticflickr.com/65535/52708313164_46e10f2b8d_s.jpg', 'https://live.staticflickr.com/65535/52707829941_ee898e38cc_s.jpg', 'https://live.staticflickr.com/65535/52708292158_eac28d3a06_s.jpg', 'https://live.staticflickr.com/65535/52707728689_a8d7549129_s.jpg', 'https://live.staticflickr.com/65535/52707888910_e72029a835_s.jpg', 'https://live.staticflickr.com/65535/52707185734_15f05db79e_s.jpg', 'https://live.staticflickr.com/65535/52706635396_e0e3399966_s.jpg', 'https://live.staticflickr.com/65535/52706992010_f4a386eb85_s.jpg', 'https://live.staticflickr.com/65535/52708638524_8935d58ac9_s.jpg', 'https://live.staticflickr.com/65535/52707858449_bc50ac95b5_s.jpg', 'https://live.staticflickr.com/65535/52708012008_4df5266199_s.jpg', 'https://live.staticflickr.com/65535/52707833273_96f2c80ce1_s.jpg', 'https://live.staticflickr.com/65535/52706598370_0481556797_s.jpg', 'https://live.staticflickr.com/65535/52705293542_0b55de7260_s.jpg', 'https://live.staticflickr.com/65535/52706228593_26d73213f8_s.jpg', 'https://live.staticflickr.com/65535/52705852964_f825065f83_s.jpg', 'https://live.staticflickr.com/65535/52705811124_fcfc69e9f4_s.jpg', 'https://live.staticflickr.com/65535/52705046900_6467c2c560_s.jpg', 'https://live.staticflickr.com/65535/52709577295_f24435b0c4_s.jpg', 'https://live.staticflickr.com/65535/52708836881_3a60ea3f42_s.jpg', 'https://live.staticflickr.com/65535/52707601540_3c00972639_s.jpg', 'https://live.staticflickr.com/65535/52703693593_dc300688e0_s.jpg', 'https://live.staticflickr.com/65535/52703163571_33662b27ab_s.jpg', 'https://live.staticflickr.com/65535/52703250193_27552d8df0_s.jpg', 'https://live.staticflickr.com/65535/52701337322_bcd0015a7c_s.jpg', 'https://live.staticflickr.com/65535/52698713735_3c599f8d81_s.jpg', 'https://live.staticflickr.com/65535/52696059335_1992768824_s.jpg', 'https://live.staticflickr.com/65535/52696134433_a100dbe5e8_s.jpg', 'https://live.staticflickr.com/65535/52709865465_132102434a_s.jpg', 'https://live.staticflickr.com/65535/52709705329_3fe6832f7c_s.jpg', 'https://live.staticflickr.com/65535/52709117096_7257b09e62_s.jpg', 'https://live.staticflickr.com/65535/52709659753_cf9241a647_s.jpg', 'https://live.staticflickr.com/65535/52708468557_28e2cf0bfa_s.jpg', 'https://live.staticflickr.com/65535/52709363115_9e68557f88_s.jpg', 'https://live.staticflickr.com/65535/52708337147_eb29869be0_s.jpg', 'https://live.staticflickr.com/65535/52709113394_4933b5c6eb_s.jpg', 'https://live.staticflickr.com/65535/52707013721_0d3f99c5fe_s.jpg', 'https://live.staticflickr.com/65535/51463874130_49c3facd49_s.jpg', 'https://live.staticflickr.com/65535/52708528594_e07c05b0fe_s.jpg', 'https://live.staticflickr.com/65535/52708758008_600e86ca43_s.jpg', 'https://live.staticflickr.com/65535/52708757968_16cb4c01ec_s.jpg', 'https://live.staticflickr.com/65535/52708528539_89dd7f7c00_s.jpg', 'https://live.staticflickr.com/65535/52707750922_77f378d0ea_s.jpg', 'https://live.staticflickr.com/65535/52708686190_3e1b1cd14a_s.jpg', 'https://live.staticflickr.com/65535/52708757938_5d3383bfca_s.jpg', 'https://live.staticflickr.com/65535/52708528534_b5c022f86d_s.jpg', 'https://live.staticflickr.com/65535/52708116785_6482cba867_s.jpg', 'https://live.staticflickr.com/65535/52706681501_f62361dfe5_s.jpg', 'https://live.staticflickr.com/65535/52708584297_238382a5ff_s.jpg', 'https://live.staticflickr.com/65535/52708077406_61cf21606f_s.jpg', 'https://live.staticflickr.com/65535/52707839411_f4e8605bfe_s.jpg', 'https://live.staticflickr.com/65535/52706525431_405948614f_s.jpg', 'https://live.staticflickr.com/65535/52706272873_4c504f205d_s.jpg', 'https://live.staticflickr.com/65535/52705020175_439a97eede_s.jpg', 'https://live.staticflickr.com/65535/52704835730_54267b3c2b_s.jpg', 'https://live.staticflickr.com/65535/52703792215_d0a1c433b0_s.jpg', 'https://live.staticflickr.com/65535/52703551130_04c06a5b01_s.jpg', 'https://live.staticflickr.com/65535/52701797232_bdf66a403b_s.jpg', 'https://live.staticflickr.com/65535/52703873445_8b35708e4e_s.jpg', 'https://live.staticflickr.com/65535/52697221951_d8e178cce6_s.jpg', 'https://live.staticflickr.com/65535/52661536935_a07e9a10c7_s.jpg', 'https://live.staticflickr.com/65535/52650062912_570c81aa70_s.jpg', 'https://live.staticflickr.com/65535/52621797434_0c5b92c472_s.jpg', 'https://live.staticflickr.com/65535/52618564945_07d46bef80_s.jpg', 'https://live.staticflickr.com/65535/52600100045_fe8ec2f0b4_s.jpg', 'https://live.staticflickr.com/65535/52571941886_005e5bfc17_s.jpg', 'https://live.staticflickr.com/65535/52523694875_c15115950b_s.jpg', 'https://live.staticflickr.com/65535/52519530073_537c82deab_s.jpg']\n"
          ]
        }
      ],
      "source": [
        "#search images\n",
        "FLICKR_PUBLIC = 'f8b9cd454275fca40682a0e602c67073'\n",
        "FLICKR_SECRET = 'cab676a88194ebae'\n",
        "\n",
        "flickr = FlickrAPI(FLICKR_PUBLIC, FLICKR_SECRET, format='parsed-json')\n",
        "#ATTENTION!!!\n",
        "#the flickr api has hugs! the offsets of image size categories are wrong... I want to get url_s, which is the\n",
        "#URL of small suqare 75x75 size image, but have to use parameter url_sq\n",
        "extras = 'url_sq' #URL of small suqare 75x75 size image\n",
        "per_page = 10\n",
        "page = 1\n",
        "img_sz = 75\n",
        "url_list = []\n",
        "for feeling in feelings:\n",
        "  cats = flickr.photos.search(text = feeling, per_page = per_page, page = page, extras = extras)\n",
        "  photos = cats['photos']\n",
        "  # print(type(photos['photo']))\n",
        "  # pprint(photos)\n",
        "  for p in photos['photo']: #dict\n",
        "    url = p['url_sq']\n",
        "    height = p['height_sq']\n",
        "    width = p['width_sq']\n",
        "    # print(url)\n",
        "    url_list.append(url)\n",
        "print(url_list)"
      ]
    },
    {
      "cell_type": "code",
      "source": [
        "for url in url_list:\n",
        "  img_name = url.split('/')[-1]\n",
        "  path = '/content/6895/images/{}'.format(img_name)\n",
        "  if os.path.exists(path):\n",
        "    continue\n",
        "  # sleep(1)\n",
        "  try:\n",
        "    urllib.request.urlretrieve(url, path)\n",
        "    urllib.request.urlcleanup()\n",
        "  except Exception as e: \n",
        "    print(e)\n",
        "\n",
        "# Resize the image and overwrite it\n",
        "# image = Image.open('00001.jpg') \n",
        "# image = image.resize((img_sz, img_sz), Image.ANTIALIAS)\n",
        "# image.save('00001.jpg')"
      ],
      "metadata": {
        "colab": {
          "base_uri": "https://localhost:8080/"
        },
        "id": "jrgQZuSl4atq",
        "outputId": "bf7e9277-9397-450b-e33b-713dd23d916a"
      },
      "execution_count": 48,
      "outputs": [
        {
          "output_type": "stream",
          "name": "stdout",
          "text": [
            "HTTP Error 410: Gone\n"
          ]
        }
      ]
    },
    {
      "cell_type": "code",
      "source": [
        "url"
      ],
      "metadata": {
        "id": "nUAdEyo_BgWp",
        "outputId": "7f60134e-d854-440c-80e6-3b7bfcec441b",
        "colab": {
          "base_uri": "https://localhost:8080/",
          "height": 35
        }
      },
      "execution_count": 46,
      "outputs": [
        {
          "output_type": "execute_result",
          "data": {
            "text/plain": [
              "'https://live.staticflickr.com/65535/52709865465_132102434a_s.jpg'"
            ],
            "application/vnd.google.colaboratory.intrinsic+json": {
              "type": "string"
            }
          },
          "metadata": {},
          "execution_count": 46
        }
      ]
    }
  ]
}